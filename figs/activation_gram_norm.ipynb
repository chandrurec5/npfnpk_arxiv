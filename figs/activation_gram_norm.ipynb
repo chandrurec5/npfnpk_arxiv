{
  "nbformat": 4,
  "nbformat_minor": 0,
  "metadata": {
    "colab": {
      "name": "activation_gram_norm",
      "provenance": [],
      "collapsed_sections": []
    },
    "kernelspec": {
      "name": "python3",
      "display_name": "Python 3"
    },
    "accelerator": "GPU"
  },
  "cells": [
    {
      "cell_type": "code",
      "metadata": {
        "id": "1aYT8icbEJCe",
        "colab_type": "code",
        "outputId": "d5d5bde6-e5cf-41e2-8270-520a78387386",
        "colab": {
          "base_uri": "https://localhost:8080/",
          "height": 35
        }
      },
      "source": [
        "import tensorflow as tf\n",
        "print(tf.__version__)\n",
        "import keras as tfk\n",
        "import numpy as np\n",
        "import matplotlib.pyplot as plt\n",
        "import seaborn as sns\n",
        "from tqdm import tqdm\n",
        "import time\n",
        "import re\n",
        "from sklearn.model_selection import *\n",
        "import keras.backend as K\n",
        "from keras.layers import *"
      ],
      "execution_count": 0,
      "outputs": [
        {
          "output_type": "stream",
          "text": [
            "1.15.0\n"
          ],
          "name": "stdout"
        }
      ]
    },
    {
      "cell_type": "markdown",
      "metadata": {
        "id": "jkZ3xx6Kkq5R",
        "colab_type": "text"
      },
      "source": [
        "- Data"
      ]
    },
    {
      "cell_type": "code",
      "metadata": {
        "id": "Wr-gYxkOlRw0",
        "colab_type": "code",
        "colab": {}
      },
      "source": [
        "width = 100\n",
        "depth = 6\n",
        "input_sz = 784\n",
        "output_sz = 1\n",
        "num_epochs = 100\n",
        "batch_size = 64\n",
        "num_exp = 5"
      ],
      "execution_count": 0,
      "outputs": []
    },
    {
      "cell_type": "code",
      "metadata": {
        "id": "RY7Ugfkxksbx",
        "colab_type": "code",
        "colab": {}
      },
      "source": [
        "labels = [-1, 1]\n",
        "def getMnist():\n",
        "    (x_train, y_train), (x_test, y_test) = tfk.datasets.mnist.load_data()\n",
        "    max_x = np.max(x_train)\n",
        "\n",
        "    x_train = x_train / max_x\n",
        "    x_test = x_test / max_x\n",
        "\n",
        "    bool_train = ((y_train == 4) | (y_train == 7))\n",
        "    bool_test = ((y_test == 4) | (y_test == 7))\n",
        "\n",
        "    x_train = x_train[bool_train]\n",
        "    y_train = y_train[bool_train].astype(np.int32)\n",
        "    x_test = x_test[bool_test]\n",
        "    y_test = y_test[bool_test].astype(np.int32)\n",
        "    y_train[y_train == 4] = labels[0]\n",
        "    y_test[y_test == 4] = labels[0]\n",
        "    y_train[y_train == 7] = labels[1]\n",
        "    y_test[y_test == 7] = labels[1]\n",
        "\n",
        "    x_train = x_train.reshape(x_train.shape[0], -1)\n",
        "    x_test = x_test.reshape(x_test.shape[0], -1)\n",
        "\n",
        "    return x_train, y_train, x_test, y_test"
      ],
      "execution_count": 0,
      "outputs": []
    },
    {
      "cell_type": "code",
      "metadata": {
        "id": "jkCemm--lZRa",
        "colab_type": "code",
        "outputId": "364c744c-412f-4aa4-c9d2-7ac1fd4c25d7",
        "colab": {
          "base_uri": "https://localhost:8080/",
          "height": 35
        }
      },
      "source": [
        "x_train, y_train, x_test, y_test = getMnist()\n",
        "print(x_train.shape, y_train.shape, x_test.shape, y_test.shape)"
      ],
      "execution_count": 0,
      "outputs": [
        {
          "output_type": "stream",
          "text": [
            "(12107, 784) (12107,) (2010, 784) (2010,)\n"
          ],
          "name": "stdout"
        }
      ]
    },
    {
      "cell_type": "markdown",
      "metadata": {
        "id": "IGUZ_nIukuKZ",
        "colab_type": "text"
      },
      "source": [
        "- Utils"
      ]
    },
    {
      "cell_type": "code",
      "metadata": {
        "id": "M0mMW3wRku8y",
        "colab_type": "code",
        "colab": {}
      },
      "source": [
        "def getEig(g_mat):\n",
        "    eig_vals = np.linalg.eig(g_mat)\n",
        "    eig_vals = np.real(eig_vals[0])\n",
        "    return eig_vals\n",
        "\n",
        "def getRandomIndices(max_lim, num_ind):\n",
        "    all_indices  = np.arange(0, max_lim)\n",
        "    np.random.shuffle(np.arange(0, max_lim))\n",
        "    return all_indices[: num_ind]\n",
        "\n",
        "def getUniqueLabelExamples(x_train, y_train, num_class, num_each_class):\n",
        "    x_batch = x_train[:num_each_class * num_class,:].copy()\n",
        "    y_batch = np.zeros((num_each_class * num_class, ))\n",
        "\n",
        "    for ind, label in enumerate(labels):\n",
        "        x_temp = x_train[(y_train == label), :]\n",
        "        max_lim = x_temp.shape[0]\n",
        "        indices = getRandomIndices(max_lim, num_each_class)\n",
        "        x_batch[ind*num_each_class: (ind+1)*num_each_class, :] = x_temp[indices, :]\n",
        "        y_batch[ind*num_each_class: (ind+1)*num_each_class, ] = label\n",
        "\n",
        "    return x_batch, y_batch\n",
        "\n",
        "sess = K.get_session()\n",
        "\n",
        "def getNetwork1Layers(model):\n",
        "    pattern = re.compile(\"^R[0-9]*$\")\n",
        "    layer_list  = []\n",
        "\n",
        "    for layer in model.layers:\n",
        "        if pattern.match(layer.name):\n",
        "            layer_list.append(layer)\n",
        "\n",
        "    return layer_list\n",
        "\n",
        "def getNetwork2Layers(model):\n",
        "    pattern = re.compile(\"^G[0-9]*$\")\n",
        "    layer_list  = []\n",
        "\n",
        "    for layer in model.layers:\n",
        "        if pattern.match(layer.name):\n",
        "            layer_list.append(layer)\n",
        "\n",
        "    return layer_list\n",
        "\n",
        "def getNetwork1TrainableWts(model):\n",
        "    layer_list = getNetwork1Layers(model)\n",
        "    wts = []\n",
        "    for layer in layer_list:\n",
        "        wts.append((layer.trainable_weights + layer.non_trainable_weights)[0])\n",
        "\n",
        "    return wts\n",
        "\n",
        "def getNetwork2TrainableWts(model):\n",
        "    layer_list = getNetwork2Layers(model)\n",
        "    wts = []\n",
        "    for layer in layer_list:\n",
        "        wts.append((layer.trainable_weights + layer.non_trainable_weights)[0])\n",
        "\n",
        "    return wts\n",
        "\n",
        "def getNTK(model, x_batch, wts):\n",
        "    gradients = K.gradients(model.output, wts)\n",
        "    Phi_E = None\n",
        "    for i in (range(x_batch.shape[0])):\n",
        "        grad = sess.run(gradients, feed_dict={model.input:x_batch[i:i+1, :]})\n",
        "        row_grad = []\n",
        "        for grad_layer in grad:\n",
        "            row_grad += grad_layer.flatten().tolist()\n",
        "\n",
        "        if Phi_E is None:\n",
        "            Phi_E = np.zeros((x_batch.shape[0], len(row_grad)))\n",
        "\n",
        "        Phi_E[i, :] = row_grad\n",
        "\n",
        "    return np.dot(Phi_E, Phi_E.T)"
      ],
      "execution_count": 0,
      "outputs": []
    },
    {
      "cell_type": "markdown",
      "metadata": {
        "id": "f3FM14I5koXZ",
        "colab_type": "text"
      },
      "source": [
        "- Model"
      ]
    },
    {
      "cell_type": "code",
      "metadata": {
        "id": "xLNYP1z1rPNK",
        "colab_type": "code",
        "colab": {}
      },
      "source": [
        "def my_init2(shape, dtype = None):\n",
        "    return tf.Variable(np.random.choice([-np.sqrt(2/width), np.sqrt(2/width)], \n",
        "                                        shape, [0.5, 0.5]), dtype = dtype, trainable= True)\n",
        "\n",
        "from keras import backend as K\n",
        "from keras.layers import Layer"
      ],
      "execution_count": 0,
      "outputs": []
    },
    {
      "cell_type": "code",
      "metadata": {
        "id": "dnGtIKBnEMP0",
        "colab_type": "code",
        "colab": {}
      },
      "source": [
        "from keras import layers\n",
        "\n",
        "class Gate(Layer):\n",
        "    def __init__(self, **kwargs):\n",
        "        super(Gate, self).__init__(**kwargs)\n",
        "\n",
        "    def build(self, input_shape):\n",
        "        super(Gate, self).build(input_shape)  # Be sure to call this at the end\n",
        "\n",
        "    def call(self, x):\n",
        "        eps = 0\n",
        "        beta = 1\n",
        "        output = (1+eps)*K.sigmoid(beta*x)\n",
        "        return output\n",
        "\n",
        "    def compute_output_shape(self, input_shape):\n",
        "        return input_shape\n",
        "\n",
        "def getModel():\n",
        "    inputs = tfk.Input(shape = (input_sz, ))\n",
        "\n",
        "    R1 = Dense(units = width, activation = 'linear', use_bias = False, \n",
        "               kernel_initializer = my_init2, name = \"R1\")(inputs)\n",
        "    R1Activ = Gate(name = \"R1Activ\")(R1)\n",
        "    R1A = Multiply(name = \"R1Activ1\")([R1, R1Activ])\n",
        "    G1 = Dense(units = width, activation = 'linear', use_bias = False, \n",
        "               kernel_initializer = my_init2, name = \"G1\")(inputs)\n",
        "    G1Activ = Gate(name = \"G1Activ\")(R1)\n",
        "    G1A = Multiply(name = \"G1A\")([G1, G1Activ])\n",
        "\n",
        "    for i in range(depth - 2):\n",
        "        R1 = Dense(units = width, activation = 'relu', use_bias = False, \n",
        "                   kernel_initializer = my_init2, name = \"R\"+str(i+2))(R1A)\n",
        "        R1Activ = Gate(name = \"R\"+str(i+2)+\"Activ\")(R1)\n",
        "        R1A = Multiply(name = \"R\"+str(i+2)+\"Activ1\")([R1, R1Activ])\n",
        "        G1 = Dense(units = width, activation = 'linear', use_bias = False, \n",
        "                   kernel_initializer = my_init2, name = \"G\"+str(i+2))(G1A)\n",
        "        G1Activ = Gate(name = \"G\"+str(i+2)+\"Activ\")(R1)\n",
        "        G1A = Multiply(name = \"G\"+str(i+2)+\"A\")([G1, G1Activ])\n",
        "\n",
        "    outputs = Dense(units = output_sz, activation = \"linear\", use_bias = False, \n",
        "                    kernel_initializer = my_init2, name = \"G\"+str(depth))(G1A)\n",
        "    model = tfk.Model(inputs = inputs, outputs = outputs, name = 'mnist_model')\n",
        "\n",
        "    return model"
      ],
      "execution_count": 0,
      "outputs": []
    },
    {
      "cell_type": "markdown",
      "metadata": {
        "id": "BLoJNRyBl6Ek",
        "colab_type": "text"
      },
      "source": [
        "- Train"
      ]
    },
    {
      "cell_type": "code",
      "metadata": {
        "id": "tWO-z_XvmNPO",
        "colab_type": "code",
        "outputId": "6bc0e05f-0815-47e3-9b88-d2babf7d225a",
        "colab": {
          "base_uri": "https://localhost:8080/",
          "height": 35
        }
      },
      "source": [
        "x_batch, y_batch = getUniqueLabelExamples(x_train, y_train, 2, 100)\n",
        "print(x_batch.shape, y_batch.shape)"
      ],
      "execution_count": 0,
      "outputs": [
        {
          "output_type": "stream",
          "text": [
            "(200, 784) (200,)\n"
          ],
          "name": "stdout"
        }
      ]
    },
    {
      "cell_type": "code",
      "metadata": {
        "id": "CwzJjTfUnT9e",
        "colab_type": "code",
        "outputId": "182eec55-98be-46f7-8bea-48a8a1976dd4",
        "colab": {
          "base_uri": "https://localhost:8080/",
          "height": 35
        }
      },
      "source": [
        "norm1_list = []\n",
        "norm2_list = []\n",
        "train_mse = []\n",
        "val_mse = []\n",
        "\n",
        "for exp_i in tqdm(range(5)):\n",
        "    norm1_list_temp = []\n",
        "    norm2_list_temp = []\n",
        "    train_mse_temp = []\n",
        "    val_mse_temp = []\n",
        "\n",
        "    model = getModel()\n",
        "    optimizer = tfk.optimizers.RMSprop(lr = 1e-4)\n",
        "    model.compile(loss = 'mse', optimizer = optimizer, metrics = ['mse'])\n",
        "    #For weight initialization\n",
        "    history = model.fit(x_train[:1, :], y_train[:1], epochs = 1,\n",
        "                        validation_data=(x_test, y_test), verbose = 0)\n",
        "\n",
        "    for epoch_i in range(num_epochs):\n",
        "        if epoch_i % 5 == 0:\n",
        "            # plt.subplots(figsize = (8, 8))\n",
        "            wts = getNetwork1TrainableWts(model)\n",
        "            activation_gram = getNTK(model, x_batch, wts)\n",
        "\n",
        "            norm1 = np.dot(y_batch, np.dot(np.linalg.inv(activation_gram/np.sum(np.diag(activation_gram))), y_batch))\n",
        "            norm2 = np.dot(y_batch, np.dot(np.linalg.inv(activation_gram), y_batch))\n",
        "\n",
        "            norm1_list_temp.append(norm1)\n",
        "            norm2_list_temp.append(norm2)\n",
        "\n",
        "        history = model.fit(x_train, y_train, epochs = 1, validation_data=(x_test, y_test), verbose = 0)\n",
        "        train_mse_temp.append(history.history['mean_squared_error'])\n",
        "        val_mse_temp.append(history.history['val_mean_squared_error'])\n",
        "    \n",
        "    norm1_list.append(norm1_list_temp)\n",
        "    norm2_list.append(norm2_list_temp)\n",
        "    train_mse.append(train_mse_temp)\n",
        "    val_mse.append(val_mse_temp)\n"
      ],
      "execution_count": 0,
      "outputs": [
        {
          "output_type": "stream",
          "text": [
            "100%|██████████| 5/5 [31:14<00:00, 377.49s/it]\n"
          ],
          "name": "stderr"
        }
      ]
    },
    {
      "cell_type": "code",
      "metadata": {
        "id": "LPNqxdJxUvzS",
        "colab_type": "code",
        "outputId": "5bb1866d-abce-48d8-ae1b-0ff8920deda4",
        "colab": {
          "base_uri": "https://localhost:8080/",
          "height": 301
        }
      },
      "source": [
        "mean_norm = np.mean(norm1_list, axis = 0)\n",
        "std_norm  = np.std(norm1_list, axis = 0)\n",
        "plt.errorbar(x = np.arange(0, num_epochs, 5), y = mean_norm, yerr = std_norm, marker = 'o')\n",
        "plt.xlabel(\"epochs\", fontsize = 14)\n",
        "plt.ylabel(\"norm\", fontsize = 14)\n",
        "plt.legend()\n",
        "plt.show()"
      ],
      "execution_count": 0,
      "outputs": [
        {
          "output_type": "stream",
          "text": [
            "No handles with labels found to put in legend.\n"
          ],
          "name": "stderr"
        },
        {
          "output_type": "display_data",
          "data": {
            "image/png": "[encoded data removed]",
            "text/plain": [
              "<Figure size 432x288 with 1 Axes>"
            ]
          },
          "metadata": {
            "tags": []
          }
        }
      ]
    },
    {
      "cell_type": "code",
      "metadata": {
        "id": "1ebhnhhgVXnc",
        "colab_type": "code",
        "outputId": "47d7ea42-e606-4770-b5c0-258ec4d90294",
        "colab": {
          "base_uri": "https://localhost:8080/",
          "height": 301
        }
      },
      "source": [
        "mean_norm = np.mean(norm2_list, axis = 0)\n",
        "std_norm  = np.std(norm2_list, axis = 0)\n",
        "plt.errorbar(x = np.arange(0, num_epochs, 5), y = mean_norm, yerr = std_norm, marker = 'o')\n",
        "plt.xlabel(\"epochs\", fontsize = 14)\n",
        "plt.ylabel(\"norm\", fontsize = 14)\n",
        "plt.legend()\n",
        "plt.show()"
      ],
      "execution_count": 0,
      "outputs": [
        {
          "output_type": "stream",
          "text": [
            "No handles with labels found to put in legend.\n"
          ],
          "name": "stderr"
        },
        {
          "output_type": "display_data",
          "data": {
            "image/png": "[encoded data removed]",
            "text/plain": [
              "<Figure size 432x288 with 1 Axes>"
            ]
          },
          "metadata": {
            "tags": []
          }
        }
      ]
    },
    {
      "cell_type": "code",
      "metadata": {
        "id": "cgW6WWRtqX9Y",
        "colab_type": "code",
        "outputId": "d240fab2-8e58-46f9-ff5d-29e1533ec022",
        "colab": {
          "base_uri": "https://localhost:8080/",
          "height": 265
        }
      },
      "source": [
        "mean_mse = np.mean(train_mse, axis = 0).flatten().tolist()\n",
        "std_mse  = np.std(train_mse, axis = 0).flatten().tolist()\n",
        "plt.errorbar(x = np.arange(0, num_epochs), y = mean_mse, yerr = std_mse, label = \"train_mse\")\n",
        "\n",
        "mean_mse = np.mean(val_mse, axis = 0).flatten().tolist()\n",
        "std_mse  = np.std(val_mse, axis = 0).flatten().tolist()\n",
        "plt.errorbar(x = np.arange(0, num_epochs), y = mean_mse, yerr = std_mse, label = \"val_mse\")\n",
        "plt.legend()\n",
        "plt.show()"
      ],
      "execution_count": 0,
      "outputs": [
        {
          "output_type": "display_data",
          "data": {
            "image/png": "[encoded data removed]",
            "text/plain": [
              "<Figure size 432x288 with 1 Axes>"
            ]
          },
          "metadata": {
            "tags": []
          }
        }
      ]
    }
  ]
}